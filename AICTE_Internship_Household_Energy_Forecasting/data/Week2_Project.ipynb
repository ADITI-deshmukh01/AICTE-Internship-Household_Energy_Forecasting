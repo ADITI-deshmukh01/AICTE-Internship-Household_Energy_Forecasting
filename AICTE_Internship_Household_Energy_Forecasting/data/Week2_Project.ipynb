{
  "cells": [
    {
      "cell_type": "markdown",
      "metadata": {},
      "source": [
        "# Household Energy Forecasting \u2013 Week 1 & Week 2\n",
        "This notebook explores household power consumption data, performs preprocessing, visualization, and analysis."
      ]
    },
    {
      "cell_type": "code",
      "execution_count": null,
      "metadata": {},
      "outputs": [],
      "source": [
        "import pandas as pd\n",
        "import matplotlib.pyplot as plt\n",
        "\n",
        "data = pd.read_csv('../data/household_power_consumption.csv')\n",
        "data.head()"
      ]
    },
    {
      "cell_type": "markdown",
      "metadata": {},
      "source": [
        "## Future Work\n",
        "- Apply ML forecasting models (ARIMA, LSTM).\n",
        "- Compare weekdays vs weekends consumption patterns.\n",
        "- Integrate weather data for better correlation with energy usage."
      ]
    }
  ],
  "metadata": {
    "kernelspec": {
      "display_name": "Python 3",
      "language": "python",
      "name": "python3"
    },
    "language_info": {
      "name": "python",
      "version": "3.10"
    }
  },
  "nbformat": 4,
  "nbformat_minor": 2
}