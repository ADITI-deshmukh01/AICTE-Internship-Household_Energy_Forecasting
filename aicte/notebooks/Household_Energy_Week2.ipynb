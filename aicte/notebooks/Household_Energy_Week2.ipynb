
{
 "cells": [
  {
   "cell_type": "markdown",
   "metadata": {},
   "source": [
    "# Household Energy Consumption – Week 2 Internship Project\n",
    "AICTE Edunet Foundation Internship | Theme: Sustainable Energy & Efficiency"
   ]
  },
  {
   "cell_type": "code",
   "execution_count": null,
   "metadata": {},
   "outputs": [],
   "source": [
    "import pandas as pd\n",
    "import matplotlib.pyplot as plt\n",
    "\n",
    "data = pd.read_csv('../data/household_power_consumption.csv', sep=';')\n",
    "data['DateTime'] = pd.to_datetime(data['Date'] + ' ' + data['Time'], errors='coerce')\n",
    "\n",
    "for col in ['Global_active_power','Global_reactive_power','Voltage','Global_intensity','Sub_metering_1','Sub_metering_2','Sub_metering_3']:\n",
    "    data[col] = pd.to_numeric(data[col], errors='coerce')\n",
    "\n",
    "print(data.info())\n",
    "print(data.head())"
   ]
  },
  {
   "cell_type": "code",
   "execution_count": null,
   "metadata": {},
   "outputs": [],
   "source": [
    "print(data.isnull().sum())\n",
    "data = data.dropna()"
   ]
  },
  {
   "cell_type": "code",
   "execution_count": null,
   "metadata": {},
   "outputs": [],
   "source": [
    "daily_energy = data.groupby(data['DateTime'].dt.date)['Global_active_power'].sum()\n",
    "plt.figure(figsize=(12,5))\n",
    "plt.plot(daily_energy.index, daily_energy.values, marker='o')\n",
    "plt.title('Daily Household Energy Consumption')\n",
    "plt.xlabel('Date')\n",
    "plt.ylabel('Global Active Power (kWh)')\n",
    "plt.xticks(rotation=45)\n",
    "plt.grid(True)\n",
    "plt.show()"
   ]
  },
  {
   "cell_type": "code",
   "execution_count": null,
   "metadata": {},
   "outputs": [],
   "source": [
    "plt.figure(figsize=(8,5))\n",
    "plt.hist(daily_energy.values, bins=20, edgecolor='black')\n",
    "plt.title('Distribution of Daily Household Energy Consumption')\n",
    "plt.xlabel('Global Active Power (kWh)')\n",
    "plt.ylabel('Frequency')\n",
    "plt.show()"
   ]
  },
  {
   "cell_type": "code",
   "execution_count": null,
   "metadata": {},
   "outputs": [],
   "source": [
    "hourly_energy = data.groupby(data['DateTime'].dt.hour)['Global_active_power'].mean()\n",
    "plt.figure(figsize=(8,5))\n",
    "plt.plot(hourly_energy.index, hourly_energy.values, marker='o', color='green')\n",
    "plt.title('Average Hourly Energy Consumption')\n",
    "plt.xlabel('Hour of Day')\n",
    "plt.ylabel('Global Active Power (kWh)')\n",
    "plt.grid(True)\n",
    "plt.show()"
   ]
  },
  {
   "cell_type": "markdown",
   "metadata": {},
   "source": [
    "### 🔹 Observations\n",
    "- Household energy consumption varies daily.\n",
    "- Evening hours show peak usage.\n",
    "- Consumption is lowest at night.\n",
    "- Most daily consumption falls in a predictable range."
   ]
  }
 ],
 "metadata": {
  "kernelspec": {
   "display_name": "Python 3",
   "language": "python",
   "name": "python3"
  },
  "language_info": {
   "name": "python",
   "version": "3.8"
  }
 },
 "nbformat": 4,
 "nbformat_minor": 2
}
